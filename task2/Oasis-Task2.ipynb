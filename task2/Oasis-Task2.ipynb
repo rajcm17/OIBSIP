{
  "nbformat": 4,
  "nbformat_minor": 0,
  "metadata": {
    "colab": {
      "provenance": [],
      "authorship_tag": "ABX9TyORu5eidXvx8Y3idqfw37r6",
      "include_colab_link": true
    },
    "kernelspec": {
      "name": "python3",
      "display_name": "Python 3"
    },
    "language_info": {
      "name": "python"
    }
  },
  "cells": [
    {
      "cell_type": "markdown",
      "metadata": {
        "id": "view-in-github",
        "colab_type": "text"
      },
      "source": [
        "<a href=\"https://colab.research.google.com/github/rajcm17/OIBSIP/blob/main/task2/Oasis-Task2.ipynb\" target=\"_parent\"><img src=\"https://colab.research.google.com/assets/colab-badge.svg\" alt=\"Open In Colab\"/></a>"
      ]
    },
    {
      "cell_type": "code",
      "source": [
        "from google.colab import drive\n",
        "drive.mount('/content/drive')"
      ],
      "metadata": {
        "id": "KEzBjnWMLFQk",
        "outputId": "ef7a19d2-d9e5-4e1b-936c-10edfcc09c56",
        "colab": {
          "base_uri": "https://localhost:8080/"
        }
      },
      "execution_count": 5,
      "outputs": [
        {
          "output_type": "stream",
          "name": "stdout",
          "text": [
            "Mounted at /content/drive\n"
          ]
        }
      ]
    },
    {
      "cell_type": "markdown",
      "source": [
        "**Exploring Dataset**"
      ],
      "metadata": {
        "id": "o8dWfLswN90z"
      }
    },
    {
      "cell_type": "code",
      "execution_count": 6,
      "metadata": {
        "id": "ADFT16sLDAOs"
      },
      "outputs": [],
      "source": [
        "import pandas as pd\n",
        "df = pd.read_csv(\"/content/drive/MyDrive/Oasis_Infobytes/ecommerce_customer_dataset.csv\")"
      ]
    },
    {
      "cell_type": "code",
      "source": [
        "df.head()"
      ],
      "metadata": {
        "id": "FaFp4htINWmV",
        "outputId": "534a6396-468f-4397-e000-7dd5a456f259",
        "colab": {
          "base_uri": "https://localhost:8080/",
          "height": 487
        }
      },
      "execution_count": 7,
      "outputs": [
        {
          "output_type": "execute_result",
          "data": {
            "text/plain": [
              "  Customer ID                 Name Item Purchased  Unit Price  Quantity  \\\n",
              "0    CUST0001       Adam Patterson       Backpack        1500         5   \n",
              "1    CUST0002        James Montoya        Monitor       12000         5   \n",
              "2    CUST0003        Alicia Miller       Keyboard        1200         3   \n",
              "3    CUST0004      Jason Avery Jr.     Smartphone       30000         3   \n",
              "4    CUST0005  Heather Hensley DVM        Charger        1000         5   \n",
              "\n",
              "   Total Price Day Purchased                              Email  \\\n",
              "0         7500        Sunday    jessica11@osborne-rodriguez.com   \n",
              "1        60000        Monday           daniellegarner@yahoo.com   \n",
              "2         3600     Wednesday  doughertysandra@thompson-reed.com   \n",
              "3        90000       Tuesday               margaret10@gmail.com   \n",
              "4         5000        Friday                 hclayton@yahoo.com   \n",
              "\n",
              "             Phone Number                                            Address  \\\n",
              "0           (250)691-5432       058 Taylor Springs, Lake Beckyfort, AL 52545   \n",
              "1  001-396-473-8514x67269  5402 Green Roads Suite 985, Lake Elizabeth, MN...   \n",
              "2              0514904752       34479 Luis Branch, Christopherbury, WA 75991   \n",
              "3        001-219-584-5151  35887 Taylor Land Suite 375, North Maria, WA 3...   \n",
              "4        001-324-058-0758           15739 Ashley Ville, Lewisville, TX 15654   \n",
              "\n",
              "  Payment Method Shipping Status  \n",
              "0    Credit Card       Cancelled  \n",
              "1    Net Banking         Shipped  \n",
              "2    Credit Card       Delivered  \n",
              "3     Debit Card       Cancelled  \n",
              "4    Credit Card         Pending  "
            ],
            "text/html": [
              "\n",
              "  <div id=\"df-9bcc5435-0d3d-426b-8703-a1a190c98439\" class=\"colab-df-container\">\n",
              "    <div>\n",
              "<style scoped>\n",
              "    .dataframe tbody tr th:only-of-type {\n",
              "        vertical-align: middle;\n",
              "    }\n",
              "\n",
              "    .dataframe tbody tr th {\n",
              "        vertical-align: top;\n",
              "    }\n",
              "\n",
              "    .dataframe thead th {\n",
              "        text-align: right;\n",
              "    }\n",
              "</style>\n",
              "<table border=\"1\" class=\"dataframe\">\n",
              "  <thead>\n",
              "    <tr style=\"text-align: right;\">\n",
              "      <th></th>\n",
              "      <th>Customer ID</th>\n",
              "      <th>Name</th>\n",
              "      <th>Item Purchased</th>\n",
              "      <th>Unit Price</th>\n",
              "      <th>Quantity</th>\n",
              "      <th>Total Price</th>\n",
              "      <th>Day Purchased</th>\n",
              "      <th>Email</th>\n",
              "      <th>Phone Number</th>\n",
              "      <th>Address</th>\n",
              "      <th>Payment Method</th>\n",
              "      <th>Shipping Status</th>\n",
              "    </tr>\n",
              "  </thead>\n",
              "  <tbody>\n",
              "    <tr>\n",
              "      <th>0</th>\n",
              "      <td>CUST0001</td>\n",
              "      <td>Adam Patterson</td>\n",
              "      <td>Backpack</td>\n",
              "      <td>1500</td>\n",
              "      <td>5</td>\n",
              "      <td>7500</td>\n",
              "      <td>Sunday</td>\n",
              "      <td>jessica11@osborne-rodriguez.com</td>\n",
              "      <td>(250)691-5432</td>\n",
              "      <td>058 Taylor Springs, Lake Beckyfort, AL 52545</td>\n",
              "      <td>Credit Card</td>\n",
              "      <td>Cancelled</td>\n",
              "    </tr>\n",
              "    <tr>\n",
              "      <th>1</th>\n",
              "      <td>CUST0002</td>\n",
              "      <td>James Montoya</td>\n",
              "      <td>Monitor</td>\n",
              "      <td>12000</td>\n",
              "      <td>5</td>\n",
              "      <td>60000</td>\n",
              "      <td>Monday</td>\n",
              "      <td>daniellegarner@yahoo.com</td>\n",
              "      <td>001-396-473-8514x67269</td>\n",
              "      <td>5402 Green Roads Suite 985, Lake Elizabeth, MN...</td>\n",
              "      <td>Net Banking</td>\n",
              "      <td>Shipped</td>\n",
              "    </tr>\n",
              "    <tr>\n",
              "      <th>2</th>\n",
              "      <td>CUST0003</td>\n",
              "      <td>Alicia Miller</td>\n",
              "      <td>Keyboard</td>\n",
              "      <td>1200</td>\n",
              "      <td>3</td>\n",
              "      <td>3600</td>\n",
              "      <td>Wednesday</td>\n",
              "      <td>doughertysandra@thompson-reed.com</td>\n",
              "      <td>0514904752</td>\n",
              "      <td>34479 Luis Branch, Christopherbury, WA 75991</td>\n",
              "      <td>Credit Card</td>\n",
              "      <td>Delivered</td>\n",
              "    </tr>\n",
              "    <tr>\n",
              "      <th>3</th>\n",
              "      <td>CUST0004</td>\n",
              "      <td>Jason Avery Jr.</td>\n",
              "      <td>Smartphone</td>\n",
              "      <td>30000</td>\n",
              "      <td>3</td>\n",
              "      <td>90000</td>\n",
              "      <td>Tuesday</td>\n",
              "      <td>margaret10@gmail.com</td>\n",
              "      <td>001-219-584-5151</td>\n",
              "      <td>35887 Taylor Land Suite 375, North Maria, WA 3...</td>\n",
              "      <td>Debit Card</td>\n",
              "      <td>Cancelled</td>\n",
              "    </tr>\n",
              "    <tr>\n",
              "      <th>4</th>\n",
              "      <td>CUST0005</td>\n",
              "      <td>Heather Hensley DVM</td>\n",
              "      <td>Charger</td>\n",
              "      <td>1000</td>\n",
              "      <td>5</td>\n",
              "      <td>5000</td>\n",
              "      <td>Friday</td>\n",
              "      <td>hclayton@yahoo.com</td>\n",
              "      <td>001-324-058-0758</td>\n",
              "      <td>15739 Ashley Ville, Lewisville, TX 15654</td>\n",
              "      <td>Credit Card</td>\n",
              "      <td>Pending</td>\n",
              "    </tr>\n",
              "  </tbody>\n",
              "</table>\n",
              "</div>\n",
              "    <div class=\"colab-df-buttons\">\n",
              "\n",
              "  <div class=\"colab-df-container\">\n",
              "    <button class=\"colab-df-convert\" onclick=\"convertToInteractive('df-9bcc5435-0d3d-426b-8703-a1a190c98439')\"\n",
              "            title=\"Convert this dataframe to an interactive table.\"\n",
              "            style=\"display:none;\">\n",
              "\n",
              "  <svg xmlns=\"http://www.w3.org/2000/svg\" height=\"24px\" viewBox=\"0 -960 960 960\">\n",
              "    <path d=\"M120-120v-720h720v720H120Zm60-500h600v-160H180v160Zm220 220h160v-160H400v160Zm0 220h160v-160H400v160ZM180-400h160v-160H180v160Zm440 0h160v-160H620v160ZM180-180h160v-160H180v160Zm440 0h160v-160H620v160Z\"/>\n",
              "  </svg>\n",
              "    </button>\n",
              "\n",
              "  <style>\n",
              "    .colab-df-container {\n",
              "      display:flex;\n",
              "      gap: 12px;\n",
              "    }\n",
              "\n",
              "    .colab-df-convert {\n",
              "      background-color: #E8F0FE;\n",
              "      border: none;\n",
              "      border-radius: 50%;\n",
              "      cursor: pointer;\n",
              "      display: none;\n",
              "      fill: #1967D2;\n",
              "      height: 32px;\n",
              "      padding: 0 0 0 0;\n",
              "      width: 32px;\n",
              "    }\n",
              "\n",
              "    .colab-df-convert:hover {\n",
              "      background-color: #E2EBFA;\n",
              "      box-shadow: 0px 1px 2px rgba(60, 64, 67, 0.3), 0px 1px 3px 1px rgba(60, 64, 67, 0.15);\n",
              "      fill: #174EA6;\n",
              "    }\n",
              "\n",
              "    .colab-df-buttons div {\n",
              "      margin-bottom: 4px;\n",
              "    }\n",
              "\n",
              "    [theme=dark] .colab-df-convert {\n",
              "      background-color: #3B4455;\n",
              "      fill: #D2E3FC;\n",
              "    }\n",
              "\n",
              "    [theme=dark] .colab-df-convert:hover {\n",
              "      background-color: #434B5C;\n",
              "      box-shadow: 0px 1px 3px 1px rgba(0, 0, 0, 0.15);\n",
              "      filter: drop-shadow(0px 1px 2px rgba(0, 0, 0, 0.3));\n",
              "      fill: #FFFFFF;\n",
              "    }\n",
              "  </style>\n",
              "\n",
              "    <script>\n",
              "      const buttonEl =\n",
              "        document.querySelector('#df-9bcc5435-0d3d-426b-8703-a1a190c98439 button.colab-df-convert');\n",
              "      buttonEl.style.display =\n",
              "        google.colab.kernel.accessAllowed ? 'block' : 'none';\n",
              "\n",
              "      async function convertToInteractive(key) {\n",
              "        const element = document.querySelector('#df-9bcc5435-0d3d-426b-8703-a1a190c98439');\n",
              "        const dataTable =\n",
              "          await google.colab.kernel.invokeFunction('convertToInteractive',\n",
              "                                                    [key], {});\n",
              "        if (!dataTable) return;\n",
              "\n",
              "        const docLinkHtml = 'Like what you see? Visit the ' +\n",
              "          '<a target=\"_blank\" href=https://colab.research.google.com/notebooks/data_table.ipynb>data table notebook</a>'\n",
              "          + ' to learn more about interactive tables.';\n",
              "        element.innerHTML = '';\n",
              "        dataTable['output_type'] = 'display_data';\n",
              "        await google.colab.output.renderOutput(dataTable, element);\n",
              "        const docLink = document.createElement('div');\n",
              "        docLink.innerHTML = docLinkHtml;\n",
              "        element.appendChild(docLink);\n",
              "      }\n",
              "    </script>\n",
              "  </div>\n",
              "\n",
              "\n",
              "    <div id=\"df-5fd47608-cea8-46ea-94b3-a36eaa59c1de\">\n",
              "      <button class=\"colab-df-quickchart\" onclick=\"quickchart('df-5fd47608-cea8-46ea-94b3-a36eaa59c1de')\"\n",
              "                title=\"Suggest charts\"\n",
              "                style=\"display:none;\">\n",
              "\n",
              "<svg xmlns=\"http://www.w3.org/2000/svg\" height=\"24px\"viewBox=\"0 0 24 24\"\n",
              "     width=\"24px\">\n",
              "    <g>\n",
              "        <path d=\"M19 3H5c-1.1 0-2 .9-2 2v14c0 1.1.9 2 2 2h14c1.1 0 2-.9 2-2V5c0-1.1-.9-2-2-2zM9 17H7v-7h2v7zm4 0h-2V7h2v10zm4 0h-2v-4h2v4z\"/>\n",
              "    </g>\n",
              "</svg>\n",
              "      </button>\n",
              "\n",
              "<style>\n",
              "  .colab-df-quickchart {\n",
              "      --bg-color: #E8F0FE;\n",
              "      --fill-color: #1967D2;\n",
              "      --hover-bg-color: #E2EBFA;\n",
              "      --hover-fill-color: #174EA6;\n",
              "      --disabled-fill-color: #AAA;\n",
              "      --disabled-bg-color: #DDD;\n",
              "  }\n",
              "\n",
              "  [theme=dark] .colab-df-quickchart {\n",
              "      --bg-color: #3B4455;\n",
              "      --fill-color: #D2E3FC;\n",
              "      --hover-bg-color: #434B5C;\n",
              "      --hover-fill-color: #FFFFFF;\n",
              "      --disabled-bg-color: #3B4455;\n",
              "      --disabled-fill-color: #666;\n",
              "  }\n",
              "\n",
              "  .colab-df-quickchart {\n",
              "    background-color: var(--bg-color);\n",
              "    border: none;\n",
              "    border-radius: 50%;\n",
              "    cursor: pointer;\n",
              "    display: none;\n",
              "    fill: var(--fill-color);\n",
              "    height: 32px;\n",
              "    padding: 0;\n",
              "    width: 32px;\n",
              "  }\n",
              "\n",
              "  .colab-df-quickchart:hover {\n",
              "    background-color: var(--hover-bg-color);\n",
              "    box-shadow: 0 1px 2px rgba(60, 64, 67, 0.3), 0 1px 3px 1px rgba(60, 64, 67, 0.15);\n",
              "    fill: var(--button-hover-fill-color);\n",
              "  }\n",
              "\n",
              "  .colab-df-quickchart-complete:disabled,\n",
              "  .colab-df-quickchart-complete:disabled:hover {\n",
              "    background-color: var(--disabled-bg-color);\n",
              "    fill: var(--disabled-fill-color);\n",
              "    box-shadow: none;\n",
              "  }\n",
              "\n",
              "  .colab-df-spinner {\n",
              "    border: 2px solid var(--fill-color);\n",
              "    border-color: transparent;\n",
              "    border-bottom-color: var(--fill-color);\n",
              "    animation:\n",
              "      spin 1s steps(1) infinite;\n",
              "  }\n",
              "\n",
              "  @keyframes spin {\n",
              "    0% {\n",
              "      border-color: transparent;\n",
              "      border-bottom-color: var(--fill-color);\n",
              "      border-left-color: var(--fill-color);\n",
              "    }\n",
              "    20% {\n",
              "      border-color: transparent;\n",
              "      border-left-color: var(--fill-color);\n",
              "      border-top-color: var(--fill-color);\n",
              "    }\n",
              "    30% {\n",
              "      border-color: transparent;\n",
              "      border-left-color: var(--fill-color);\n",
              "      border-top-color: var(--fill-color);\n",
              "      border-right-color: var(--fill-color);\n",
              "    }\n",
              "    40% {\n",
              "      border-color: transparent;\n",
              "      border-right-color: var(--fill-color);\n",
              "      border-top-color: var(--fill-color);\n",
              "    }\n",
              "    60% {\n",
              "      border-color: transparent;\n",
              "      border-right-color: var(--fill-color);\n",
              "    }\n",
              "    80% {\n",
              "      border-color: transparent;\n",
              "      border-right-color: var(--fill-color);\n",
              "      border-bottom-color: var(--fill-color);\n",
              "    }\n",
              "    90% {\n",
              "      border-color: transparent;\n",
              "      border-bottom-color: var(--fill-color);\n",
              "    }\n",
              "  }\n",
              "</style>\n",
              "\n",
              "      <script>\n",
              "        async function quickchart(key) {\n",
              "          const quickchartButtonEl =\n",
              "            document.querySelector('#' + key + ' button');\n",
              "          quickchartButtonEl.disabled = true;  // To prevent multiple clicks.\n",
              "          quickchartButtonEl.classList.add('colab-df-spinner');\n",
              "          try {\n",
              "            const charts = await google.colab.kernel.invokeFunction(\n",
              "                'suggestCharts', [key], {});\n",
              "          } catch (error) {\n",
              "            console.error('Error during call to suggestCharts:', error);\n",
              "          }\n",
              "          quickchartButtonEl.classList.remove('colab-df-spinner');\n",
              "          quickchartButtonEl.classList.add('colab-df-quickchart-complete');\n",
              "        }\n",
              "        (() => {\n",
              "          let quickchartButtonEl =\n",
              "            document.querySelector('#df-5fd47608-cea8-46ea-94b3-a36eaa59c1de button');\n",
              "          quickchartButtonEl.style.display =\n",
              "            google.colab.kernel.accessAllowed ? 'block' : 'none';\n",
              "        })();\n",
              "      </script>\n",
              "    </div>\n",
              "\n",
              "    </div>\n",
              "  </div>\n"
            ],
            "application/vnd.google.colaboratory.intrinsic+json": {
              "type": "dataframe",
              "variable_name": "df",
              "summary": "{\n  \"name\": \"df\",\n  \"rows\": 50,\n  \"fields\": [\n    {\n      \"column\": \"Customer ID\",\n      \"properties\": {\n        \"dtype\": \"string\",\n        \"num_unique_values\": 50,\n        \"samples\": [\n          \"CUST0014\",\n          \"CUST0040\",\n          \"CUST0031\"\n        ],\n        \"semantic_type\": \"\",\n        \"description\": \"\"\n      }\n    },\n    {\n      \"column\": \"Name\",\n      \"properties\": {\n        \"dtype\": \"string\",\n        \"num_unique_values\": 50,\n        \"samples\": [\n          \"Jennifer Powers\",\n          \"Dr. Hector Mcmillan\",\n          \"Lisa Schmitt\"\n        ],\n        \"semantic_type\": \"\",\n        \"description\": \"\"\n      }\n    },\n    {\n      \"column\": \"Item Purchased\",\n      \"properties\": {\n        \"dtype\": \"category\",\n        \"num_unique_values\": 10,\n        \"samples\": [\n          \"USB Cable\",\n          \"Monitor\",\n          \"Mouse\"\n        ],\n        \"semantic_type\": \"\",\n        \"description\": \"\"\n      }\n    },\n    {\n      \"column\": \"Unit Price\",\n      \"properties\": {\n        \"dtype\": \"number\",\n        \"std\": 20760,\n        \"min\": 250,\n        \"max\": 75000,\n        \"num_unique_values\": 10,\n        \"samples\": [\n          250,\n          12000,\n          800\n        ],\n        \"semantic_type\": \"\",\n        \"description\": \"\"\n      }\n    },\n    {\n      \"column\": \"Quantity\",\n      \"properties\": {\n        \"dtype\": \"number\",\n        \"std\": 1,\n        \"min\": 1,\n        \"max\": 5,\n        \"num_unique_values\": 5,\n        \"samples\": [\n          3,\n          4,\n          1\n        ],\n        \"semantic_type\": \"\",\n        \"description\": \"\"\n      }\n    },\n    {\n      \"column\": \"Total Price\",\n      \"properties\": {\n        \"dtype\": \"number\",\n        \"std\": 91765,\n        \"min\": 750,\n        \"max\": 375000,\n        \"num_unique_values\": 26,\n        \"samples\": [\n          24000,\n          12000,\n          7500\n        ],\n        \"semantic_type\": \"\",\n        \"description\": \"\"\n      }\n    },\n    {\n      \"column\": \"Day Purchased\",\n      \"properties\": {\n        \"dtype\": \"category\",\n        \"num_unique_values\": 7,\n        \"samples\": [\n          \"Sunday\",\n          \"Monday\",\n          \"Thursday\"\n        ],\n        \"semantic_type\": \"\",\n        \"description\": \"\"\n      }\n    },\n    {\n      \"column\": \"Email\",\n      \"properties\": {\n        \"dtype\": \"string\",\n        \"num_unique_values\": 50,\n        \"samples\": [\n          \"williamweber@paul.com\",\n          \"meganfisher@jones.info\",\n          \"wjohnson@hotmail.com\"\n        ],\n        \"semantic_type\": \"\",\n        \"description\": \"\"\n      }\n    },\n    {\n      \"column\": \"Phone Number\",\n      \"properties\": {\n        \"dtype\": \"string\",\n        \"num_unique_values\": 50,\n        \"samples\": [\n          \"635-981-3927x65865\",\n          \"693-391-5695\",\n          \"+1-238-593-0964x8637\"\n        ],\n        \"semantic_type\": \"\",\n        \"description\": \"\"\n      }\n    },\n    {\n      \"column\": \"Address\",\n      \"properties\": {\n        \"dtype\": \"string\",\n        \"num_unique_values\": 50,\n        \"samples\": [\n          \"91857 Salinas Ridges, Christophermouth, FL 96254\",\n          \"22171 Hood Bypass, Braunborough, NC 35878\",\n          \"3816 Blake Street, New Adriennestad, DC 51625\"\n        ],\n        \"semantic_type\": \"\",\n        \"description\": \"\"\n      }\n    },\n    {\n      \"column\": \"Payment Method\",\n      \"properties\": {\n        \"dtype\": \"category\",\n        \"num_unique_values\": 5,\n        \"samples\": [\n          \"Net Banking\",\n          \"UPI\",\n          \"Debit Card\"\n        ],\n        \"semantic_type\": \"\",\n        \"description\": \"\"\n      }\n    },\n    {\n      \"column\": \"Shipping Status\",\n      \"properties\": {\n        \"dtype\": \"category\",\n        \"num_unique_values\": 4,\n        \"samples\": [\n          \"Shipped\",\n          \"Pending\",\n          \"Cancelled\"\n        ],\n        \"semantic_type\": \"\",\n        \"description\": \"\"\n      }\n    }\n  ]\n}"
            }
          },
          "metadata": {},
          "execution_count": 7
        }
      ]
    },
    {
      "cell_type": "code",
      "source": [
        "df.info()"
      ],
      "metadata": {
        "id": "nJlfNAnCOEmX",
        "outputId": "faf225be-0fc4-4573-c9c0-bfb176cbdb12",
        "colab": {
          "base_uri": "https://localhost:8080/"
        }
      },
      "execution_count": 8,
      "outputs": [
        {
          "output_type": "stream",
          "name": "stdout",
          "text": [
            "<class 'pandas.core.frame.DataFrame'>\n",
            "RangeIndex: 50 entries, 0 to 49\n",
            "Data columns (total 12 columns):\n",
            " #   Column           Non-Null Count  Dtype \n",
            "---  ------           --------------  ----- \n",
            " 0   Customer ID      50 non-null     object\n",
            " 1   Name             50 non-null     object\n",
            " 2   Item Purchased   50 non-null     object\n",
            " 3   Unit Price       50 non-null     int64 \n",
            " 4   Quantity         50 non-null     int64 \n",
            " 5   Total Price      50 non-null     int64 \n",
            " 6   Day Purchased    50 non-null     object\n",
            " 7   Email            50 non-null     object\n",
            " 8   Phone Number     50 non-null     object\n",
            " 9   Address          50 non-null     object\n",
            " 10  Payment Method   50 non-null     object\n",
            " 11  Shipping Status  50 non-null     object\n",
            "dtypes: int64(3), object(9)\n",
            "memory usage: 4.8+ KB\n"
          ]
        }
      ]
    },
    {
      "cell_type": "markdown",
      "source": [
        "**Cleaning of the dataset**"
      ],
      "metadata": {
        "id": "G6maL4cHPRG3"
      }
    },
    {
      "cell_type": "code",
      "source": [
        "df.dropna(inplace=True)"
      ],
      "metadata": {
        "id": "z8Fn8Ol_PXH-"
      },
      "execution_count": 9,
      "outputs": []
    },
    {
      "cell_type": "code",
      "source": [
        "df['Address'].fillna('Unknown', inplace=True)  # Fill with a placeholder"
      ],
      "metadata": {
        "id": "tRQC4i1TQVGd"
      },
      "execution_count": 13,
      "outputs": []
    },
    {
      "cell_type": "code",
      "source": [
        "df['Total Price'] = df['Total Price'].astype(float)"
      ],
      "metadata": {
        "id": "aWBaLarPRC1m"
      },
      "execution_count": 14,
      "outputs": []
    },
    {
      "cell_type": "code",
      "source": [
        "df.drop_duplicates(inplace=True)"
      ],
      "metadata": {
        "id": "RrSqghs_RtVZ"
      },
      "execution_count": 15,
      "outputs": []
    },
    {
      "cell_type": "code",
      "source": [
        "df['Payment Method'] = df['Payment Method'].str.lower().str.strip()"
      ],
      "metadata": {
        "id": "nlyVUSa0Rv2s"
      },
      "execution_count": 16,
      "outputs": []
    },
    {
      "cell_type": "code",
      "source": [
        "import re\n",
        "\n",
        "def clean_text(text):\n",
        "    text = text.lower()  # Lowercase\n",
        "    text = re.sub(r'[^a-zA-Z0-9\\s]', '', text)  # Remove special chars\n",
        "    text = re.sub(r'\\s+', ' ', text).strip()  # Remove extra spaces\n",
        "    return text\n",
        "\n",
        "df['Item Purchased'] = df['Item Purchased'].apply(clean_text)"
      ],
      "metadata": {
        "id": "rjsIQ9a1R84C"
      },
      "execution_count": 17,
      "outputs": []
    }
  ]
}